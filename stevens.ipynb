{
 "cells": [
  {
   "cell_type": "markdown",
   "metadata": {},
   "source": [
    "# Module 4 Project: Jupyter Notebooks\n",
    "\n",
    "Author: [Solomon Stevens](https://github.com/Stone-Snevets)\n",
    "Repository: [datafun-4-noteboks](https://github.com/Stone-Snevets/datafun-04-notebooks)"
   ]
  },
  {
   "cell_type": "markdown",
   "metadata": {},
   "source": [
    "## Task 1: Series"
   ]
  },
  {
   "cell_type": "code",
   "execution_count": 1,
   "metadata": {},
   "outputs": [
    {
     "data": {
      "text/plain": [
       "count    11.000000\n",
       "mean     80.818182\n",
       "std      14.918567\n",
       "min      55.000000\n",
       "25%      72.000000\n",
       "50%      86.000000\n",
       "75%      91.000000\n",
       "max      96.000000\n",
       "dtype: float64"
      ]
     },
     "execution_count": 1,
     "metadata": {},
     "output_type": "execute_result"
    }
   ],
   "source": [
    "# Import pandas module\n",
    "import pandas as pd\n",
    "\n",
    "\n",
    "# Create \"grades\" Series\n",
    "\n",
    "#-> Import random to create a random list of grades\n",
    "import random\n",
    "\n",
    "#-> Create a list of random integers and cast into a Series\n",
    "grades = pd.Series([random.randint(50,100) for x in range(11)])\n",
    "\n",
    "\n",
    "# Get value of first grade\n",
    "grades_first = grades[0]\n",
    "\n",
    "\n",
    "\n",
    "# Call built-in Series functions\n",
    "grades.count()\n",
    "grades.mean()\n",
    "grades.min()\n",
    "grades.max()\n",
    "grades.std()\n",
    "grades.describe()"
   ]
  },
  {
   "cell_type": "markdown",
   "metadata": {},
   "source": [
    "## Task 2: Series from a Dictionary"
   ]
  },
  {
   "cell_type": "code",
   "execution_count": 2,
   "metadata": {},
   "outputs": [
    {
     "data": {
      "text/plain": [
       "array([ 87, 100,  94], dtype=int64)"
      ]
     },
     "execution_count": 2,
     "metadata": {},
     "output_type": "execute_result"
    }
   ],
   "source": [
    "# Use \"Dictionary Initializers\" subsection (page 264) to initialize grades with a dictionary\n",
    "dict_grades = pd.Series({'Wally': 87, 'Eva': 100, 'Sam': 94})\n",
    "\n",
    "# Find Eva's score using []\n",
    "dict_grades_Eva = dict_grades['Eva']\n",
    "\n",
    "# Find Wally's score using dot(.)\n",
    "dict_grades_Wally = dict_grades.Wally\n",
    "\n",
    "# Use \"values\" attribute to display array\n",
    "dict_grades.values"
   ]
  },
  {
   "cell_type": "code",
   "execution_count": 3,
   "metadata": {},
   "outputs": [
    {
     "data": {
      "text/plain": [
       "count      3.000000\n",
       "mean      93.666667\n",
       "std        6.506407\n",
       "min       87.000000\n",
       "25%       90.500000\n",
       "50%       94.000000\n",
       "75%       97.000000\n",
       "max      100.000000\n",
       "dtype: float64"
      ]
     },
     "execution_count": 3,
     "metadata": {},
     "output_type": "execute_result"
    }
   ],
   "source": [
    "# Complete self check on page 266\n",
    "\n",
    "#-> Determine lowest, highest, and average\n",
    "dict_grades_worst = dict_grades.min()\n",
    "dict_grades_best = dict_grades.max()\n",
    "dict_grades_average = dict_grades.mean()\n",
    "\n",
    "#-> Product discriptive statistics\n",
    "dict_grades.describe()"
   ]
  }
 ],
 "metadata": {
  "kernelspec": {
   "display_name": ".venv",
   "language": "python",
   "name": "python3"
  },
  "language_info": {
   "codemirror_mode": {
    "name": "ipython",
    "version": 3
   },
   "file_extension": ".py",
   "mimetype": "text/x-python",
   "name": "python",
   "nbconvert_exporter": "python",
   "pygments_lexer": "ipython3",
   "version": "3.11.4"
  },
  "orig_nbformat": 4
 },
 "nbformat": 4,
 "nbformat_minor": 2
}
